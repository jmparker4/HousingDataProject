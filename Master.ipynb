{
 "cells": [
  {
   "cell_type": "markdown",
   "id": "93d51195-904d-4386-9dbe-d02a9ce4dc0d",
   "metadata": {},
   "source": [
    "# Housing Project\n",
    "Authors: Jake Parker, Adjith Kumar"
   ]
  },
  {
   "cell_type": "markdown",
   "id": "7fe0e64c-3508-4fcc-bf16-ef13510472b2",
   "metadata": {},
   "source": [
    "## Objective:\n",
    "The Goal of our reacher was to see if the speculations of it being harder to buy a house is factually true using certain metrics."
   ]
  },
  {
   "cell_type": "markdown",
   "id": "23f2ed6c-73ea-4362-ae53-efed903e7401",
   "metadata": {},
   "source": [
    "### Our Data:\n",
    "\n",
    "#### Housing Data:\n",
    "The main source of housing data was taken from the US Federal Reserve of St. Louis. This data is collected by the department from several govermental bodies such as the US Census burrow.\n",
    "\n",
    "\n",
    "#### Income:\n",
    "\n",
    "#### Interest:\n"
   ]
  },
  {
   "cell_type": "markdown",
   "id": "142bc813-031d-4906-bcd7-ca7d52ba2c63",
   "metadata": {},
   "source": [
    "### Gathering the Data:\n",
    "This data was gathered from both webscrapping of govermental websites and also downloading premade data"
   ]
  },
  {
   "cell_type": "code",
   "execution_count": null,
   "id": "8aa07a4b-5573-4074-8c5e-cb93a0f8ac65",
   "metadata": {},
   "outputs": [],
   "source": [
    "#### ADDD scrapping code here"
   ]
  },
  {
   "cell_type": "markdown",
   "id": "3a8ff3b5-442d-418d-9ab2-0f05ad7a8971",
   "metadata": {},
   "source": [
    "### Feature Manipluation\n",
    "**** Write Description of each feature we created the have the code down below ****"
   ]
  },
  {
   "cell_type": "markdown",
   "id": "26d2ba1b-4145-4e1b-ad14-1e3a66542e0d",
   "metadata": {},
   "source": [
    "### Graphing and observations\n",
    "**** Here we will put graphs and observations. Should be the largest part of the Project ****\n",
    "<br>\n",
    "**** Lets try to not use the same color for all of our graphs HAHA ****"
   ]
  },
  {
   "cell_type": "code",
   "execution_count": null,
   "id": "5f64b5b3-ae0e-4665-ac36-f0bc3d28f13e",
   "metadata": {},
   "outputs": [],
   "source": [
    "#### Housing Prices"
   ]
  },
  {
   "cell_type": "code",
   "execution_count": null,
   "id": "e1ef6771-0daa-42f6-810a-1d3469f3dd58",
   "metadata": {},
   "outputs": [],
   "source": [
    "#### Corrected Housing prices within inflation"
   ]
  },
  {
   "cell_type": "code",
   "execution_count": 1,
   "id": "55d4fa5c-c79e-4799-8601-e4e90de33059",
   "metadata": {},
   "outputs": [],
   "source": [
    "#### Interest Rates"
   ]
  },
  {
   "cell_type": "code",
   "execution_count": 2,
   "id": "8aeb82b6-06cf-49d1-a1ff-c26bc8510697",
   "metadata": {},
   "outputs": [],
   "source": [
    "#### Income. Really show that Income does not keep up with inflation"
   ]
  },
  {
   "cell_type": "code",
   "execution_count": null,
   "id": "8a5529ff-834f-4155-b32c-26e4f9c99b78",
   "metadata": {},
   "outputs": [],
   "source": [
    "#### New Home Building"
   ]
  },
  {
   "cell_type": "code",
   "execution_count": null,
   "id": "46df3087-d94c-4352-9898-8b9d6a21c09a",
   "metadata": {},
   "outputs": [],
   "source": [
    "#### Buying Power Metric"
   ]
  },
  {
   "cell_type": "markdown",
   "id": "d9bf3b47-314a-4b76-8c3a-a5f12ea12b55",
   "metadata": {},
   "source": [
    "### Key Takeaway:\n",
    "*** Here we will put our closing arguments ***"
   ]
  },
  {
   "cell_type": "markdown",
   "id": "68f3d46c-414c-43c4-a5f7-6658ddd81cb3",
   "metadata": {},
   "source": [
    "### Sources:\n",
    "SaintLouis Fed: https://www.stlouisfed.org\n",
    "\n",
    "Seaborn Documentation: https://seaborn.pydata.org"
   ]
  },
  {
   "cell_type": "code",
   "execution_count": null,
   "id": "9a460e0e-b9c8-41b5-8187-11d6fcf54cd5",
   "metadata": {},
   "outputs": [],
   "source": []
  }
 ],
 "metadata": {
  "kernelspec": {
   "display_name": "Python 3 (ipykernel)",
   "language": "python",
   "name": "python3"
  },
  "language_info": {
   "codemirror_mode": {
    "name": "ipython",
    "version": 3
   },
   "file_extension": ".py",
   "mimetype": "text/x-python",
   "name": "python",
   "nbconvert_exporter": "python",
   "pygments_lexer": "ipython3",
   "version": "3.11.5"
  }
 },
 "nbformat": 4,
 "nbformat_minor": 5
}
